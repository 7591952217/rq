{
 "cells": [
  {
   "cell_type": "code",
   "execution_count": 16,
   "metadata": {},
   "outputs": [],
   "source": [
    "import time\n",
    "\n",
    "from rq import Queue\n",
    "from redis import Redis\n",
    "from rq.job import Job\n",
    "\n",
    "from tasks import print_name, sample"
   ]
  },
  {
   "cell_type": "code",
   "execution_count": 129,
   "metadata": {},
   "outputs": [],
   "source": [
    "# Connect to the Redis server\n",
    "redis_conn = Redis(host='localhost', port=6379)\n",
    "\n",
    "# Create a queue (\"low\" is the name of the queue. If not defined, default queue is used)\n",
    "queue1 = Queue('low',connection=redis_conn, default_timeout=15) # default_timeout sets the time_out for every task in the queue \n",
    "queue2 = Queue(connection=redis_conn, default_timeout=15)"
   ]
  },
  {
   "cell_type": "code",
   "execution_count": 130,
   "metadata": {},
   "outputs": [
    {
     "name": "stdout",
     "output_type": "stream",
     "text": [
      "Job1 ID: sample_1\n",
      "Job2 ID: fa49f068-b89f-4fdb-b3ca-7c3e15239d46\n",
      "Job3 ID: 30c0907e-690c-4f0d-9510-d93676b78db2\n",
      "low\n"
     ]
    }
   ],
   "source": [
    "# Enqueue tasks with arguments\n",
    "job1 = queue1.enqueue(sample, result_ttl=3600, job_id='sample_1')\n",
    "job2 = queue1.enqueue(print_name, \"Rahul\")\n",
    "job3 = queue1.enqueue(print_name, \"Praveena\", job_timeout=2)\n",
    "# Demonstrate job IDs\n",
    "print(f\"Job1 ID: {job1.id}\")\n",
    "print(f\"Job2 ID: {job2.id}\")\n",
    "print(f\"Job3 ID: {job3.id}\")\n",
    "\n",
    "print(job1.origin)"
   ]
  },
  {
   "cell_type": "code",
   "execution_count": 23,
   "metadata": {},
   "outputs": [
    {
     "name": "stdout",
     "output_type": "stream",
     "text": [
      "Job ID: ecd7810e-a3c3-4880-a5d1-a16adbfd3ce1, Queue: low, Status: queued, Result: None\n"
     ]
    }
   ],
   "source": [
    "# Show queued jobs and their statuses\n",
    "for job in queue1.jobs:\n",
    "    print(f\"Job ID: {job.id}, Queue: {queue1.name}, Status: {job.get_status()}, Result: {job.result}\")\n",
    "\n",
    "    # print(f\"Job ID: {job.id}, Status: {job.get_status()}, Result: {job.result}\")"
   ]
  },
  {
   "cell_type": "code",
   "execution_count": 2,
   "metadata": {},
   "outputs": [],
   "source": [
    "# job_ids_to_delete = [\"88c3ac81-4795-4a86-835d-7452d47e3796\" ] \n",
    "\n",
    "# # Delete the tasks from the queue\n",
    "# queue2.delete(job_ids_to_delete)"
   ]
  },
  {
   "cell_type": "code",
   "execution_count": 115,
   "metadata": {},
   "outputs": [],
   "source": [
    "# To enqueue multiple tasks in an single network call\n",
    "jobs = queue1.enqueue_many(\n",
    "  [\n",
    "    Queue.prepare_data(print_name, (\"Mary\",) ),\n",
    "    Queue.prepare_data(print_name, (\"Prasad\",) )\n",
    "  ]\n",
    ")"
   ]
  },
  {
   "cell_type": "code",
   "execution_count": null,
   "metadata": {},
   "outputs": [],
   "source": [
    "# depends_on\n",
    "from tasks import add,sample\n",
    "job_add = queue1.enqueue(add, 5, 6)\n",
    "queue1.enqueue(sample, depends_on = job_add) #task sample is completed only after add is successfully completed\n",
    "job_add.result"
   ]
  },
  {
   "cell_type": "markdown",
   "metadata": {},
   "source": [
    "## Scedule Jobs"
   ]
  },
  {
   "cell_type": "code",
   "execution_count": 122,
   "metadata": {},
   "outputs": [],
   "source": [
    "# Create a queue\n",
    "queue2 = Queue('new',connection=redis_conn, default_timeout=15)"
   ]
  },
  {
   "cell_type": "code",
   "execution_count": 123,
   "metadata": {},
   "outputs": [],
   "source": [
    "from datetime import datetime, timedelta\n",
    "\n",
    "# Schedule job to run at 2.15\n",
    "time = datetime(year=2023, month=7, day=28, hour=15, minute=44, second=2)\n",
    "job = queue2.enqueue_at(time, sample)\n",
    "\n"
   ]
  },
  {
   "cell_type": "code",
   "execution_count": null,
   "metadata": {},
   "outputs": [],
   "source": [
    "# Schedule job to be run in 10 seconds\n",
    "job = queue1.enqueue_in(timedelta(seconds=30), sample)"
   ]
  },
  {
   "cell_type": "markdown",
   "metadata": {},
   "source": [
    "## Queue"
   ]
  },
  {
   "cell_type": "code",
   "execution_count": 124,
   "metadata": {},
   "outputs": [],
   "source": [
    "# Enqueue tasks with arguments\n",
    "job1 = queue1.enqueue(print_name, \"Rahul\")\n",
    "job2 = queue1.enqueue(sample, result_ttl=3600, job_id='sample_1')\n",
    "job3 = queue1.enqueue(print_name, \"Praveena\")"
   ]
  },
  {
   "cell_type": "code",
   "execution_count": 125,
   "metadata": {},
   "outputs": [
    {
     "name": "stdout",
     "output_type": "stream",
     "text": [
      "1\n",
      "queued_job_ids: ['ebdf98f1-89d1-4ad9-91e9-4004b9ac2cb9']\n",
      "queued_jobs [Job('ebdf98f1-89d1-4ad9-91e9-4004b9ac2cb9', enqueued_at=datetime.datetime(2023, 7, 28, 10, 19, 34, 883483))]\n"
     ]
    }
   ],
   "source": [
    "# Getting the number of jobs in the queue\n",
    "# Note: Only queued jobs are counted, not including deferred ones\n",
    "print(len(queue1))\n",
    "\n",
    "# Retrieving jobs\n",
    "queued_job_ids = queue1.job_ids # Gets a list of job IDs from the queue\n",
    "queued_jobs = queue1.jobs # Gets a list of enqueued job instances\n",
    "\n",
    "print(\"queued_job_ids:\", queued_job_ids)\n",
    "print(\"queued_jobs\", queued_jobs)"
   ]
  },
  {
   "cell_type": "code",
   "execution_count": null,
   "metadata": {},
   "outputs": [],
   "source": [
    "job = queue1.fetch_job('sample_1') # Returns job having ID \"my_id\"\n",
    "print(job.result)"
   ]
  },
  {
   "cell_type": "code",
   "execution_count": 93,
   "metadata": {},
   "outputs": [
    {
     "data": {
      "text/plain": [
       "2"
      ]
     },
     "execution_count": 93,
     "metadata": {},
     "output_type": "execute_result"
    }
   ],
   "source": [
    "# Emptying a queue, this will delete all jobs in this queue\n",
    "queue1.empty()"
   ]
  },
  {
   "cell_type": "code",
   "execution_count": 94,
   "metadata": {},
   "outputs": [],
   "source": [
    "# Deleting a queue\n",
    "queue1.delete(delete_jobs=True) # Passing in `True` will remove all jobs in the queue\n",
    "# queue is now unusable. It can be recreated by enqueueing jobs to it."
   ]
  },
  {
   "cell_type": "code",
   "execution_count": 110,
   "metadata": {},
   "outputs": [],
   "source": [
    "from rq.command import send_stop_job_command\n",
    "\n",
    "# This will raise an exception if job is invalid or not currently executing\n",
    "send_stop_job_command(redis_conn, 'sample_1')"
   ]
  },
  {
   "cell_type": "markdown",
   "metadata": {},
   "source": [
    "## Worker\n"
   ]
  },
  {
   "cell_type": "code",
   "execution_count": 83,
   "metadata": {},
   "outputs": [
    {
     "name": "stdout",
     "output_type": "stream",
     "text": [
      "14:14:34 Worker rq:worker:5e25d4ce7f574770bc6c1a5de54a78d7 started with PID 6538, version 1.15.1\n",
      "14:14:34 Subscribing to channel rq:pubsub:5e25d4ce7f574770bc6c1a5de54a78d7\n",
      "14:14:34 *** Listening on default...\n",
      "14:14:52 Worker 5e25d4ce7f574770bc6c1a5de54a78d7 [PID 6538]: warm shut down requested\n",
      "14:14:52 Unsubscribing from channel rq:pubsub:5e25d4ce7f574770bc6c1a5de54a78d7\n"
     ]
    },
    {
     "data": {
      "text/plain": [
       "False"
      ]
     },
     "execution_count": 83,
     "metadata": {},
     "output_type": "execute_result"
    }
   ],
   "source": [
    "from rq import Worker\n",
    "\n",
    "# Provide the worker with the list of queues (str) to listen to.\n",
    "w = Worker(['default'], connection=Redis())\n",
    "w.work()"
   ]
  },
  {
   "cell_type": "code",
   "execution_count": null,
   "metadata": {},
   "outputs": [
    {
     "name": "stdout",
     "output_type": "stream",
     "text": [
      "14:07:22 Worker rq:worker:abc started with PID 6538, version 1.15.1\n",
      "14:07:22 Subscribing to channel rq:pubsub:abc\n",
      "14:07:22 *** Listening on default...\n",
      "14:07:27 Worker abc [PID 6538]: warm shut down requested\n",
      "14:07:27 Unsubscribing from channel rq:pubsub:abc\n"
     ]
    },
    {
     "data": {
      "text/plain": [
       "False"
      ]
     },
     "execution_count": 77,
     "metadata": {},
     "output_type": "execute_result"
    }
   ],
   "source": [
    "# Provide the worker with the list of queues (str) to listen to.\n",
    "w = Worker(['default'], connection=Redis(), name=\"abc\")\n",
    "w.work()"
   ]
  },
  {
   "cell_type": "code",
   "execution_count": null,
   "metadata": {},
   "outputs": [],
   "source": []
  },
  {
   "cell_type": "code",
   "execution_count": null,
   "metadata": {},
   "outputs": [],
   "source": []
  },
  {
   "cell_type": "code",
   "execution_count": null,
   "metadata": {},
   "outputs": [],
   "source": []
  },
  {
   "cell_type": "code",
   "execution_count": null,
   "metadata": {},
   "outputs": [],
   "source": []
  },
  {
   "cell_type": "code",
   "execution_count": null,
   "metadata": {},
   "outputs": [],
   "source": []
  }
 ],
 "metadata": {
  "kernelspec": {
   "display_name": "invoice",
   "language": "python",
   "name": "python3"
  },
  "language_info": {
   "codemirror_mode": {
    "name": "ipython",
    "version": 3
   },
   "file_extension": ".py",
   "mimetype": "text/x-python",
   "name": "python",
   "nbconvert_exporter": "python",
   "pygments_lexer": "ipython3",
   "version": "3.8.10"
  },
  "orig_nbformat": 4
 },
 "nbformat": 4,
 "nbformat_minor": 2
}
